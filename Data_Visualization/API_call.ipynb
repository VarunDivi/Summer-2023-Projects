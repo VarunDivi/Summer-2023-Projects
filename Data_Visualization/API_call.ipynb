{
 "cells": [
  {
   "cell_type": "code",
   "execution_count": 37,
   "metadata": {},
   "outputs": [],
   "source": [
    "import requests\n",
    "import pygal"
   ]
  },
  {
   "cell_type": "code",
   "execution_count": 34,
   "metadata": {},
   "outputs": [],
   "source": [
    "url = 'https://api.github.com/search/repositories?q=language:python&sort=stars'"
   ]
  },
  {
   "cell_type": "code",
   "execution_count": 35,
   "metadata": {},
   "outputs": [
    {
     "name": "stdout",
     "output_type": "stream",
     "text": [
      "200\n"
     ]
    }
   ],
   "source": [
    "r = requests.get(url)\n",
    "print(r.status_code)\n"
   ]
  },
  {
   "cell_type": "code",
   "execution_count": 36,
   "metadata": {},
   "outputs": [
    {
     "name": "stdout",
     "output_type": "stream",
     "text": [
      "dict_keys(['total_count', 'incomplete_results', 'items'])\n",
      "30\n",
      "interview_internal_reference\n",
      "interactive-coding-challenges\n",
      "pytorch-tutorial\n",
      "ChatGPT\n",
      "professional-programming\n",
      "ML-From-Scratch\n",
      "saleor\n",
      "chatgpt-retrieval-plugin\n",
      "sanic\n",
      "mindsdb\n",
      "PySnooper\n",
      "ipython\n",
      "mypy\n",
      "calibre\n",
      "jupyter\n",
      "microservices-demo\n",
      "SMSBoom\n",
      "YYeTsBot\n",
      "tushare\n",
      "prefect\n",
      "numpy-ml\n",
      "wifiphisher\n",
      "asciinema\n",
      "transferlearning\n",
      "lama-cleaner\n",
      "pgcli\n",
      "deep_learning_object_detection\n",
      "FastPhotoStyle\n",
      "chia-blockchain\n",
      "pre-commit\n",
      "interview_internal_reference\n",
      "interactive-coding-challenges\n",
      "pytorch-tutorial\n",
      "ChatGPT\n",
      "professional-programming\n",
      "ML-From-Scratch\n",
      "saleor\n",
      "chatgpt-retrieval-plugin\n",
      "sanic\n",
      "mindsdb\n",
      "PySnooper\n",
      "ipython\n",
      "mypy\n",
      "calibre\n",
      "jupyter\n",
      "microservices-demo\n",
      "SMSBoom\n",
      "YYeTsBot\n",
      "tushare\n",
      "prefect\n",
      "numpy-ml\n",
      "wifiphisher\n",
      "asciinema\n",
      "transferlearning\n",
      "lama-cleaner\n",
      "pgcli\n",
      "deep_learning_object_detection\n",
      "FastPhotoStyle\n",
      "chia-blockchain\n",
      "pre-commit\n"
     ]
    }
   ],
   "source": [
    "response_dict = r.json()\n",
    "print(response_dict.keys())\n",
    "print(len(response_dict.get('items')))\n",
    "i = 0;\n",
    "\n",
    "while i < len(response_dict.get('items')):\n",
    "    print(response_dict.get('items')[i].get('name'))\n",
    "    i = i + 1\n",
    "\n",
    "for i in response_dict.get('items'):\n",
    "    print(i.get('name'))"
   ]
  },
  {
   "cell_type": "code",
   "execution_count": null,
   "metadata": {},
   "outputs": [],
   "source": []
  }
 ],
 "metadata": {
  "kernelspec": {
   "display_name": "Python 3",
   "language": "python",
   "name": "python3"
  },
  "language_info": {
   "codemirror_mode": {
    "name": "ipython",
    "version": 3
   },
   "file_extension": ".py",
   "mimetype": "text/x-python",
   "name": "python",
   "nbconvert_exporter": "python",
   "pygments_lexer": "ipython3",
   "version": "3.9.13"
  },
  "orig_nbformat": 4
 },
 "nbformat": 4,
 "nbformat_minor": 2
}
