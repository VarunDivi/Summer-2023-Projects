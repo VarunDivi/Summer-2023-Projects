{
 "cells": [
  {
   "attachments": {},
   "cell_type": "markdown",
   "metadata": {},
   "source": [
    "## Imports"
   ]
  },
  {
   "cell_type": "code",
   "execution_count": 1,
   "metadata": {},
   "outputs": [],
   "source": [
    "import numpy\n",
    "import matplotlib\n",
    "import torch"
   ]
  },
  {
   "cell_type": "code",
   "execution_count": 5,
   "metadata": {},
   "outputs": [
    {
     "name": "stdout",
     "output_type": "stream",
     "text": [
      " Hello there\n",
      " Hellothere\n"
     ]
    }
   ],
   "source": [
    "message = \" Hello \"\n",
    "print(message + \"there\")\n",
    "message = message.rstrip()\n",
    "print(message + \"there\")"
   ]
  },
  {
   "cell_type": "code",
   "execution_count": 10,
   "metadata": {},
   "outputs": [
    {
     "name": "stdout",
     "output_type": "stream",
     "text": [
      "1.5\n",
      "2.5\n",
      "2.5\n"
     ]
    }
   ],
   "source": [
    "print(5/2)\n",
    "print(5.0/2)\n",
    "print(5/2.0)\n"
   ]
  },
  {
   "cell_type": "code",
   "execution_count": 67,
   "metadata": {},
   "outputs": [
    {
     "name": "stdout",
     "output_type": "stream",
     "text": [
      "['Apples', 'Bread', 'Milk', 'Eggs']\n",
      "['Bananas', 'Apples', 'Bread', 'Milk', 'Eggs']\n",
      "['Bananas', 'Bread', 'Milk', 'Eggs']\n",
      "['Bananas', 'Bread', 'Milk']\n",
      "['Bananas', 'Bread']\n"
     ]
    }
   ],
   "source": [
    "shopping_list = [\"Apples\", \"Bread\", \"Milk\"]\n",
    "shopping_list.append(\"Eggs\")\n",
    "print(shopping_list)\n",
    "shopping_list.insert(0,\"Bananas\")\n",
    "print(shopping_list)\n",
    "del shopping_list[1]\n",
    "print(shopping_list)\n",
    "shopping_list.pop(len(shopping_list)-1)\n",
    "print(shopping_list)\n"
   ]
  },
  {
   "cell_type": "code",
   "execution_count": 32,
   "metadata": {},
   "outputs": [
    {
     "name": "stdout",
     "output_type": "stream",
     "text": [
      "['V', 'a', 'r', 'u', 'n']\n",
      "['V', 'a', 'n', 'r', 'u']\n",
      "['u', 'r', 'n', 'a', 'V']\n",
      "['D', 'i', 'i', 'v']\n",
      "['D', 'i', 'v', 'i']\n"
     ]
    }
   ],
   "source": [
    "name = [\"V\", \"a\", \"r\", \"u\", \"n\"]\n",
    "last = [\"D\", \"i\", \"v\", \"i\"]\n",
    "\n",
    "print(name)\n",
    "#Sorting Permanently. Pass by reference rather than value.\n",
    "#Sorts by ASCII value\n",
    "name.sort()\n",
    "print(name)\n",
    "name.reverse()\n",
    "print(name)\n",
    "\n",
    "#Sorting temporarily\n",
    "print(sorted(last))\n",
    "print(last)"
   ]
  },
  {
   "cell_type": "code",
   "execution_count": 38,
   "metadata": {},
   "outputs": [
    {
     "name": "stdout",
     "output_type": "stream",
     "text": [
      "bananas\n",
      "\n",
      "bread\n",
      "\n",
      "milk\n",
      "\n"
     ]
    }
   ],
   "source": [
    "for items in shopping_list:\n",
    "    print(items.lower() + \"\\n\")"
   ]
  },
  {
   "cell_type": "code",
   "execution_count": 55,
   "metadata": {},
   "outputs": [
    {
     "name": "stdout",
     "output_type": "stream",
     "text": [
      "The square of 0 is 0\n",
      "The square of 4 is 16\n",
      "The square of 8 is 64\n"
     ]
    }
   ],
   "source": [
    "num_list = list(range(0,12, 4))\n",
    "for i in num_list:\n",
    "    print(\"The square of \" + str(i) + \" is \" + str(i**2))"
   ]
  },
  {
   "cell_type": "code",
   "execution_count": 82,
   "metadata": {},
   "outputs": [
    {
     "name": "stdout",
     "output_type": "stream",
     "text": [
      "[0, 1, 4, 9, 16, 25, 36, 49, 64, 81]\n",
      "[36, 49, 64, 81]\n",
      "[4, 9, 16, 25]\n",
      "[0, 1, 4]\n",
      "0\n",
      "9\n",
      "45\n",
      "True\n"
     ]
    }
   ],
   "source": [
    "digits_square = list(digit**2 for digit in range(0,10))\n",
    "print(digits_square)\n",
    "print(digits_square[-4:])\n",
    "print(digits_square[2:6])\n",
    "print(digits_square[:3])\n",
    "print(min(digits))\n",
    "print(max(digits))\n",
    "print(sum(digits))\n",
    "\n",
    "print(0 in digits_square)"
   ]
  },
  {
   "cell_type": "code",
   "execution_count": null,
   "metadata": {},
   "outputs": [],
   "source": [
    "#To make a list copy instead of a reference use slice\n",
    "digits2 = digits_square[:]\n"
   ]
  },
  {
   "attachments": {},
   "cell_type": "markdown",
   "metadata": {},
   "source": [
    "### Tuples"
   ]
  },
  {
   "cell_type": "code",
   "execution_count": 81,
   "metadata": {},
   "outputs": [
    {
     "name": "stdout",
     "output_type": "stream",
     "text": [
      "200\n",
      "400\n"
     ]
    }
   ],
   "source": [
    "#Tuples, immutable\n",
    "dimensions = (200, 100)\n",
    "print(dimensions[0])\n",
    "\n",
    "#Can reassign the tuple variable but cant change the contents of tuple\n",
    "dimensions = (400, 150)\n",
    "print(dimensions[0])\n"
   ]
  },
  {
   "attachments": {},
   "cell_type": "markdown",
   "metadata": {},
   "source": [
    "### Conditionals"
   ]
  },
  {
   "cell_type": "code",
   "execution_count": 83,
   "metadata": {},
   "outputs": [
    {
     "name": "stdout",
     "output_type": "stream",
     "text": [
      "Adult\n"
     ]
    }
   ],
   "source": [
    "age = 20\n",
    "\n",
    "if( age < 12):\n",
    "    print(\"Child\")\n",
    "elif(age < 18):\n",
    "    print(\"Adolescent\")\n",
    "else:\n",
    "    print(\"Adult\")"
   ]
  },
  {
   "attachments": {},
   "cell_type": "markdown",
   "metadata": {},
   "source": [
    "### Dictionaries"
   ]
  },
  {
   "cell_type": "code",
   "execution_count": 106,
   "metadata": {},
   "outputs": [
    {
     "name": "stdout",
     "output_type": "stream",
     "text": [
      "Luffy\n",
      "{'Name': 'Luffy', 'Age': '19', 'Origin': 'East Blue'}\n",
      "Key: Name\n",
      "Value: Luffy\n",
      "\n",
      "Key: Age\n",
      "Value: 19\n",
      "\n",
      "Key: Origin\n",
      "Value: East Blue\n",
      "\n"
     ]
    }
   ],
   "source": [
    "#Dictionaries\n",
    "op = {'Name': 'Luffy', 'Dragon-fruit': 'Gomu Gomu no Mi', 'Age': '19'}\n",
    "op['Origin'] = \"East Blue\"\n",
    "op['Dragon-fruit'] = \"Gomu Gomu Zoan Model Nika\"\n",
    "print(op['Name'])\n",
    "del op['Dragon-fruit']\n",
    "print(op)\n",
    "\n",
    "for key,value in op.items():\n",
    "    print(\"Key: \" + key)\n",
    "    print(\"Value: \" + value + \"\\n\")"
   ]
  }
 ],
 "metadata": {
  "kernelspec": {
   "display_name": "Python 3",
   "language": "python",
   "name": "python3"
  },
  "language_info": {
   "codemirror_mode": {
    "name": "ipython",
    "version": 3
   },
   "file_extension": ".py",
   "mimetype": "text/x-python",
   "name": "python",
   "nbconvert_exporter": "python",
   "pygments_lexer": "ipython3",
   "version": "3.10.5"
  },
  "orig_nbformat": 4
 },
 "nbformat": 4,
 "nbformat_minor": 2
}
