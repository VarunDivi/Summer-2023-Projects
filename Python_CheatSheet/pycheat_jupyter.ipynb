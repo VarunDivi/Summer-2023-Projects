{
 "cells": [
  {
   "attachments": {},
   "cell_type": "markdown",
   "metadata": {},
   "source": [
    "## Imports"
   ]
  },
  {
   "cell_type": "code",
   "execution_count": 78,
   "metadata": {},
   "outputs": [],
   "source": [
    "import numpy\n",
    "import matplotlib\n",
    "import torch\n",
    "import json"
   ]
  },
  {
   "cell_type": "code",
   "execution_count": 5,
   "metadata": {},
   "outputs": [
    {
     "name": "stdout",
     "output_type": "stream",
     "text": [
      " Hello there\n",
      " Hellothere\n"
     ]
    }
   ],
   "source": [
    "message = \" Hello \"\n",
    "print(message + \"there\")\n",
    "message = message.rstrip()\n",
    "print(message + \"there\")"
   ]
  },
  {
   "cell_type": "code",
   "execution_count": 10,
   "metadata": {},
   "outputs": [
    {
     "name": "stdout",
     "output_type": "stream",
     "text": [
      "1.5\n",
      "2.5\n",
      "2.5\n"
     ]
    }
   ],
   "source": [
    "print(5/2)\n",
    "print(5.0/2)\n",
    "print(5/2.0)\n"
   ]
  },
  {
   "cell_type": "code",
   "execution_count": 67,
   "metadata": {},
   "outputs": [
    {
     "name": "stdout",
     "output_type": "stream",
     "text": [
      "['Apples', 'Bread', 'Milk', 'Eggs']\n",
      "['Bananas', 'Apples', 'Bread', 'Milk', 'Eggs']\n",
      "['Bananas', 'Bread', 'Milk', 'Eggs']\n",
      "['Bananas', 'Bread', 'Milk']\n",
      "['Bananas', 'Bread']\n"
     ]
    }
   ],
   "source": [
    "shopping_list = [\"Apples\", \"Bread\", \"Milk\"]\n",
    "shopping_list.append(\"Eggs\")\n",
    "print(shopping_list)\n",
    "shopping_list.insert(0,\"Bananas\")\n",
    "print(shopping_list)\n",
    "del shopping_list[1]\n",
    "print(shopping_list)\n",
    "shopping_list.pop(len(shopping_list)-1)\n",
    "print(shopping_list)\n"
   ]
  },
  {
   "cell_type": "code",
   "execution_count": 32,
   "metadata": {},
   "outputs": [
    {
     "name": "stdout",
     "output_type": "stream",
     "text": [
      "['V', 'a', 'r', 'u', 'n']\n",
      "['V', 'a', 'n', 'r', 'u']\n",
      "['u', 'r', 'n', 'a', 'V']\n",
      "['D', 'i', 'i', 'v']\n",
      "['D', 'i', 'v', 'i']\n"
     ]
    }
   ],
   "source": [
    "name = [\"V\", \"a\", \"r\", \"u\", \"n\"]\n",
    "last = [\"D\", \"i\", \"v\", \"i\"]\n",
    "\n",
    "print(name)\n",
    "#Sorting Permanently. Pass by reference rather than value.\n",
    "#Sorts by ASCII value\n",
    "name.sort()\n",
    "print(name)\n",
    "name.reverse()\n",
    "print(name)\n",
    "\n",
    "#Sorting temporarily\n",
    "print(sorted(last))\n",
    "print(last)"
   ]
  },
  {
   "cell_type": "code",
   "execution_count": 38,
   "metadata": {},
   "outputs": [
    {
     "name": "stdout",
     "output_type": "stream",
     "text": [
      "bananas\n",
      "\n",
      "bread\n",
      "\n",
      "milk\n",
      "\n"
     ]
    }
   ],
   "source": [
    "for items in shopping_list:\n",
    "    print(items.lower() + \"\\n\")"
   ]
  },
  {
   "cell_type": "code",
   "execution_count": 55,
   "metadata": {},
   "outputs": [
    {
     "name": "stdout",
     "output_type": "stream",
     "text": [
      "The square of 0 is 0\n",
      "The square of 4 is 16\n",
      "The square of 8 is 64\n"
     ]
    }
   ],
   "source": [
    "num_list = list(range(0,12, 4))\n",
    "for i in num_list:\n",
    "    print(\"The square of \" + str(i) + \" is \" + str(i**2))"
   ]
  },
  {
   "cell_type": "code",
   "execution_count": 82,
   "metadata": {},
   "outputs": [
    {
     "name": "stdout",
     "output_type": "stream",
     "text": [
      "[0, 1, 4, 9, 16, 25, 36, 49, 64, 81]\n",
      "[36, 49, 64, 81]\n",
      "[4, 9, 16, 25]\n",
      "[0, 1, 4]\n",
      "0\n",
      "9\n",
      "45\n",
      "True\n"
     ]
    }
   ],
   "source": [
    "digits_square = list(digit**2 for digit in range(0,10))\n",
    "print(digits_square)\n",
    "print(digits_square[-4:])\n",
    "print(digits_square[2:6])\n",
    "print(digits_square[:3])\n",
    "print(min(digits))\n",
    "print(max(digits))\n",
    "print(sum(digits))\n",
    "\n",
    "print(0 in digits_square)"
   ]
  },
  {
   "cell_type": "code",
   "execution_count": null,
   "metadata": {},
   "outputs": [],
   "source": [
    "#To make a list copy instead of a reference use slice\n",
    "digits2 = digits_square[:]\n"
   ]
  },
  {
   "attachments": {},
   "cell_type": "markdown",
   "metadata": {},
   "source": [
    "### Tuples"
   ]
  },
  {
   "cell_type": "code",
   "execution_count": 81,
   "metadata": {},
   "outputs": [
    {
     "name": "stdout",
     "output_type": "stream",
     "text": [
      "200\n",
      "400\n"
     ]
    }
   ],
   "source": [
    "#Tuples, immutable\n",
    "dimensions = (200, 100)\n",
    "print(dimensions[0])\n",
    "\n",
    "#Can reassign the tuple variable but cant change the contents of tuple\n",
    "dimensions = (400, 150)\n",
    "print(dimensions[0])\n"
   ]
  },
  {
   "attachments": {},
   "cell_type": "markdown",
   "metadata": {},
   "source": [
    "### Conditionals"
   ]
  },
  {
   "cell_type": "code",
   "execution_count": 83,
   "metadata": {},
   "outputs": [
    {
     "name": "stdout",
     "output_type": "stream",
     "text": [
      "Adult\n"
     ]
    }
   ],
   "source": [
    "age = 20\n",
    "\n",
    "if( age < 12):\n",
    "    print(\"Child\")\n",
    "elif(age < 18):\n",
    "    print(\"Adolescent\")\n",
    "else:\n",
    "    print(\"Adult\")"
   ]
  },
  {
   "attachments": {},
   "cell_type": "markdown",
   "metadata": {},
   "source": [
    "### Dictionaries"
   ]
  },
  {
   "cell_type": "code",
   "execution_count": 106,
   "metadata": {},
   "outputs": [
    {
     "name": "stdout",
     "output_type": "stream",
     "text": [
      "Luffy\n",
      "{'Name': 'Luffy', 'Age': '19', 'Origin': 'East Blue'}\n",
      "Key: Name\n",
      "Value: Luffy\n",
      "\n",
      "Key: Age\n",
      "Value: 19\n",
      "\n",
      "Key: Origin\n",
      "Value: East Blue\n",
      "\n"
     ]
    }
   ],
   "source": [
    "#Dictionaries\n",
    "op = {'Name': 'Luffy', 'Dragon-fruit': 'Gomu Gomu no Mi', 'Age': '19'}\n",
    "op['Origin'] = \"East Blue\"\n",
    "op['Dragon-fruit'] = \"Gomu Gomu Zoan Model Nika\"\n",
    "print(op['Name'])\n",
    "del op['Dragon-fruit']\n",
    "print(op)\n",
    "\n",
    "for key,value in op.items():\n",
    "    print(\"Key: \" + key)\n",
    "    print(\"Value: \" + value + \"\\n\")"
   ]
  },
  {
   "attachments": {},
   "cell_type": "markdown",
   "metadata": {},
   "source": [
    "### Input"
   ]
  },
  {
   "cell_type": "code",
   "execution_count": 109,
   "metadata": {},
   "outputs": [
    {
     "name": "stdout",
     "output_type": "stream",
     "text": [
      "Succesfully deposited $10 into checking\n"
     ]
    },
    {
     "data": {
      "text/plain": [
       "1"
      ]
     },
     "execution_count": 109,
     "metadata": {},
     "output_type": "execute_result"
    }
   ],
   "source": [
    "deposit = input(\"How much money would you like to deposit?\")\n",
    "print(\"Succesfully deposited $\" + deposit + \" into checking\")\n",
    "\n"
   ]
  },
  {
   "cell_type": "code",
   "execution_count": 114,
   "metadata": {},
   "outputs": [
    {
     "name": "stdout",
     "output_type": "stream",
     "text": [
      "1\n"
     ]
    }
   ],
   "source": [
    "print(10%(3))"
   ]
  },
  {
   "attachments": {},
   "cell_type": "markdown",
   "metadata": {},
   "source": [
    "## Functions"
   ]
  },
  {
   "cell_type": "code",
   "execution_count": 120,
   "metadata": {},
   "outputs": [
    {
     "name": "stdout",
     "output_type": "stream",
     "text": [
      "Hello World!\n",
      "Hello Test!\n",
      "Hello Function3\n"
     ]
    }
   ],
   "source": [
    "def greeting():\n",
    "    print(\"Hello World!\")\n",
    "\n",
    "greeting()\n",
    "\n",
    "\n",
    "def greeting2(username):\n",
    "    print(\"Hello \" + username + \"!\")\n",
    "\n",
    "greeting2(input(\"Enter Username\"))\n",
    "\n",
    "\n",
    "def greeting3(username, greeting = \"Hello\"):\n",
    "    print(greeting + \" \" + username)\n",
    "\n",
    "greeting3(input(\"Enter Username\"))\n"
   ]
  },
  {
   "cell_type": "code",
   "execution_count": 121,
   "metadata": {},
   "outputs": [
    {
     "name": "stdout",
     "output_type": "stream",
     "text": [
      "('Pepperoni', 'Cheese', 'Mushrooms')\n"
     ]
    }
   ],
   "source": [
    "#Handling arbitrary # of arguments using tuples\n",
    "def make_pizza(*toppings):\n",
    "    print(toppings)\n",
    "\n",
    "make_pizza(\"Pepperoni\", \"Cheese\", \"Mushrooms\")"
   ]
  },
  {
   "attachments": {},
   "cell_type": "markdown",
   "metadata": {},
   "source": [
    "### Classes"
   ]
  },
  {
   "cell_type": "code",
   "execution_count": 155,
   "metadata": {},
   "outputs": [],
   "source": [
    "class Animal():\n",
    "\n",
    "    def __init__(self, name, age) -> None:\n",
    "        self.name = name\n",
    "        self.age = age\n",
    "\n",
    "\n",
    "    def sit(self):\n",
    "        print(\"\\n\" + self.name + \" Sat down\")\n",
    "\n",
    "    def roll_over(self):\n",
    "        return self.name + \" Rolled over\"\n",
    "\n",
    "class Dog(Animal):\n",
    "    \n",
    "    def __init__(self, name, age):\n",
    "        super().__init__(name, age)\n",
    "\n",
    "    def bark(self):\n",
    "        print(self.name + \" barked\")\n"
   ]
  },
  {
   "cell_type": "code",
   "execution_count": 156,
   "metadata": {},
   "outputs": [
    {
     "name": "stdout",
     "output_type": "stream",
     "text": [
      "Leon Rolled over\n",
      "Bubbles barked\n",
      "None\n"
     ]
    }
   ],
   "source": [
    "my_animal = Animal(\"Leon\", 15)\n",
    "my_dog = Dog(\"Bubbles\", 10)\n",
    "\n",
    "print(my_animal.roll_over())\n",
    "print(my_dog.bark())"
   ]
  },
  {
   "attachments": {},
   "cell_type": "markdown",
   "metadata": {},
   "source": [
    "## I/O Operations"
   ]
  },
  {
   "attachments": {},
   "cell_type": "markdown",
   "metadata": {},
   "source": [
    "### Opening and reading"
   ]
  },
  {
   "cell_type": "code",
   "execution_count": 26,
   "metadata": {},
   "outputs": [
    {
     "name": "stdout",
     "output_type": "stream",
     "text": [
      "10\n",
      "1030000\n",
      "4.964967868995092e+103\n",
      "You birthday is in the 0 position in pi\n"
     ]
    }
   ],
   "source": [
    "#read() assigns the entire txt file to contents as a string. Can substring contents like any normal string. Can also parse to float.\n",
    "with open(\"pi_million_digits.txt\") as pi_txt:\n",
    "    contents = pi_txt.read()\n",
    "    print(len(contents[0:10]))\n",
    "    print(len(contents))\n",
    "\n",
    "\n",
    "sum = 0\n",
    "\n",
    "#Sums up each line of the txt file. Each line of pi is converted into a float and added to sum. \n",
    "with open(\"pi_million_digits.txt\") as pi_txt:\n",
    "    lines = pi_txt.readlines()\n",
    "    for i in lines:\n",
    "        sum += float(i.rstrip())\n",
    "    print(sum)\n",
    "\n",
    "\n",
    "with open(\"pi_million_digits.txt\") as million_pi:\n",
    "    pi = million_pi.read()\n",
    "\n",
    "\n",
    "birthday = input(\"Enter your birthday in mmddyyyy form: \")\n",
    "\n",
    "if birthday in pi:\n",
    "    print(\"You birthday is in the \" + str(pi.index(birthday)) + \" position in pi\")\n",
    "else:\n",
    "    print(\"Your birthday was not in the \" + str(len(pi)) + \" digits of pi. ;(\")\n",
    "\n",
    "\n"
   ]
  },
  {
   "attachments": {},
   "cell_type": "markdown",
   "metadata": {},
   "source": [
    "### Opening and writing"
   ]
  },
  {
   "cell_type": "code",
   "execution_count": 58,
   "metadata": {},
   "outputs": [
    {
     "name": "stdout",
     "output_type": "stream",
     "text": [
      "\n"
     ]
    }
   ],
   "source": [
    "filename = \"Resources/pi_million_digits.txt\"\n",
    "\n",
    "#Read and write mode allows overwriting text from the beginning. 3.14 missing\n",
    "with open(filename, 'r+') as fp:\n",
    "    fp.write(\"Test\") \n",
    "    content = fp.read()\n",
    "\n",
    "#Append mode allows adding text at the end. Might need to remove this block to run for some reason\n",
    "with open(filename, 'a+') as fp:\n",
    "    fp.write(\"Test\") \n",
    "    content = fp.read()\n",
    "\n",
    "\n",
    "print(content)"
   ]
  },
  {
   "attachments": {},
   "cell_type": "markdown",
   "metadata": {},
   "source": [
    "### Exception, Function, I/O example"
   ]
  },
  {
   "cell_type": "code",
   "execution_count": 76,
   "metadata": {},
   "outputs": [
    {
     "name": "stdout",
     "output_type": "stream",
     "text": [
      "29594\n",
      "10005\n",
      "The text Resources/fake.txt doesn't exist\n",
      "None\n"
     ]
    }
   ],
   "source": [
    "alice_book = \"Resources/alice.txt\"\n",
    "\n",
    "def count_words(book):\n",
    "    try:\n",
    "        with open(book, encoding=\"utf8\") as ab:\n",
    "            contents = ab.read()\n",
    "\n",
    "    except FileNotFoundError:\n",
    "        print(\"The text \" + book + \" doesn't exist\")\n",
    "        pass\n",
    "    \n",
    "    else:\n",
    "        book_list = contents.split()\n",
    "        return len(book_list)\n",
    "\n",
    "books = ['Resources/alice.txt', 'Resources/pi_million_digits.txt', 'Resources/fake.txt']\n",
    "\n",
    "for book in books:\n",
    "    print(count_words(book))"
   ]
  },
  {
   "attachments": {},
   "cell_type": "markdown",
   "metadata": {},
   "source": [
    "### Json Dumpng"
   ]
  },
  {
   "cell_type": "code",
   "execution_count": 103,
   "metadata": {},
   "outputs": [
    {
     "name": "stdout",
     "output_type": "stream",
     "text": [
      "[3, 3, 6, 6, 5, 3, 6, 2, 1, 2]\n"
     ]
    }
   ],
   "source": [
    "import json\n",
    "\n",
    "numbers = [3,3,6,6,5,3,6,2,1,2]\n",
    "\n",
    "filename = 'numbers.json'\n",
    "\n",
    "\n",
    "with open(filename, 'r+') as numjsn:\n",
    "    json.dump(numbers, numjsn)\n",
    "\n",
    "\n",
    "\n",
    "with open(filename, 'r+') as f_obj:\n",
    "    nums = json.load(f_obj)\n",
    "\n",
    "print(nums)\n",
    "\n",
    "\n",
    "\n"
   ]
  },
  {
   "attachments": {},
   "cell_type": "markdown",
   "metadata": {},
   "source": [
    "### Skipped Testing and Error checking"
   ]
  },
  {
   "attachments": {},
   "cell_type": "markdown",
   "metadata": {},
   "source": []
  }
 ],
 "metadata": {
  "kernelspec": {
   "display_name": "Python 3",
   "language": "python",
   "name": "python3"
  },
  "language_info": {
   "codemirror_mode": {
    "name": "ipython",
    "version": 3
   },
   "file_extension": ".py",
   "mimetype": "text/x-python",
   "name": "python",
   "nbconvert_exporter": "python",
   "pygments_lexer": "ipython3",
   "version": "3.9.13"
  },
  "orig_nbformat": 4
 },
 "nbformat": 4,
 "nbformat_minor": 2
}
